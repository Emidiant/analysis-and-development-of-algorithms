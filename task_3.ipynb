{
 "cells": [
  {
   "cell_type": "markdown",
   "id": "sudden-introduction",
   "metadata": {},
   "source": [
    "# Algorithms for unconstrained nonlinear optimization. First- and second-order methods"
   ]
  },
  {
   "cell_type": "code",
   "execution_count": 596,
   "id": "coastal-tradition",
   "metadata": {},
   "outputs": [],
   "source": [
    "import random\n",
    "import math as m\n",
    "from matplotlib import cm\n",
    "import matplotlib.pyplot as plt\n",
    "import matplotlib as mpl\n",
    "import numpy as np\n",
    "from math import sqrt\n",
    "from sympy import *\n",
    "from numpy import array\n",
    "from numpy.linalg import norm"
   ]
  },
  {
   "cell_type": "markdown",
   "id": "superb-control",
   "metadata": {},
   "source": [
    "## Data Generation"
   ]
  },
  {
   "cell_type": "code",
   "execution_count": 639,
   "id": "certified-minutes",
   "metadata": {},
   "outputs": [],
   "source": [
    "eps = 1e-3\n",
    "accuracy = round(m.log(1/eps, 10))\n",
    "alpha = random.random()\n",
    "beta = random.random()\n",
    "n = 100\n",
    "x = [k/n for k in range(n + 1)]\n",
    "y = [alpha * x[k] + beta + random.normalvariate(0, 1) for k in range(n + 1)]"
   ]
  },
  {
   "cell_type": "code",
   "execution_count": 640,
   "id": "reported-heart",
   "metadata": {},
   "outputs": [],
   "source": [
    "def linear_approx(a, b, x):\n",
    "    return a * x + b\n",
    "\n",
    "def linear_approx_derivative_a(a, b, x):\n",
    "    \"\"\"Производная по a\"\"\"\n",
    "    return x\n",
    "\n",
    "def linear_approx_derivative_b(a, b, x):\n",
    "    \"\"\"Производная по b\"\"\"\n",
    "    return 1\n",
    "\n",
    "def grad_linear_approx(a, b, x):\n",
    "    \"\"\"Градиент линейной аппроксимации\"\"\"\n",
    "    return Vector(linear_approx_derivative_a(a, b, x), linear_approx_derivative_b(a, b, x))"
   ]
  },
  {
   "cell_type": "code",
   "execution_count": 641,
   "id": "pressed-kentucky",
   "metadata": {},
   "outputs": [],
   "source": [
    "def rational_approx(a, b, x):\n",
    "    if 1 + x * b != 0:\n",
    "        return a / (1 + b * x)\n",
    "    else:\n",
    "        return 1000000\n",
    "\n",
    "def rational_approx_derivative_a(a, b, x):\n",
    "    \"Производная по a\"\n",
    "    if 1 + b * x != 0:\n",
    "        return 1 / (1 + b * x)\n",
    "    else:\n",
    "        return 100000\n",
    "    \n",
    "def rational_approx_derivative_b(a, b, x):\n",
    "    \"\"\"Производная по b\"\"\"\n",
    "    if 1 + b * x != 0:\n",
    "        return -a * x / (1 + b * x) ** 2\n",
    "    else:\n",
    "        return 100000\n",
    "    \n",
    "def grad_rational_approx(a, b, x):\n",
    "    \"\"\"Градиент рациональной аппроксимации\"\"\"\n",
    "    return Vector(rational_approx_derivative_a(a, b, x), rational_approx_derivative_b(a, b, x))"
   ]
  },
  {
   "cell_type": "code",
   "execution_count": 642,
   "id": "fatty-reaction",
   "metadata": {},
   "outputs": [],
   "source": [
    "approx_grad = {\n",
    "    rational_approx: grad_rational_approx,\n",
    "    linear_approx: grad_linear_approx\n",
    "}\n",
    "\n",
    "def least_squares(func, a, b):\n",
    "    d = 0\n",
    "    for k in range(0, n + 1):\n",
    "        d += (func(a, b, x[k]) - y[k]) ** 2 \n",
    "    return d\n",
    "\n",
    "def grad_least_squares(func, v):\n",
    "    grad = Vector(0, 0)\n",
    "    for k in range(0, n + 1):\n",
    "        res = func(v.a, v.b, x[k]) - y[k]\n",
    "        grad += 2 * res * approx_grad[func](v.a, v.b, x[k])\n",
    "    return grad"
   ]
  },
  {
   "cell_type": "code",
   "execution_count": 643,
   "id": "million-disaster",
   "metadata": {},
   "outputs": [],
   "source": [
    "class Visualise_3d():\n",
    "    \n",
    "    def __init__(self, x, y):\n",
    "        eps = 1e-2\n",
    "        a = [i * eps for i in range(-len(x), 2 * len(x) + 1)]\n",
    "        self.a = a\n",
    "        self.a_np = np.array([a for i in range(len(a))])\n",
    "        b = [j * eps for j in range(-len(x), 2 * len(y) + 1)]\n",
    "        self.b = b\n",
    "        self.b_np = np.array([b for i in range(len(a))])\n",
    "        self.d_np = []\n",
    "        self.func = \"\"\n",
    "\n",
    "    def build_z(self, func):\n",
    "        self.func = func\n",
    "        d = []\n",
    "        for i in self.a:\n",
    "            temp_d = []\n",
    "            for j in self.b:\n",
    "                temp_d.append(least_squares(func, i, j))\n",
    "            d.append(temp_d)\n",
    "        self.d_np = np.array(d)\n",
    "        \n",
    "    def draw_chart(self, list_point):\n",
    "        plt.rcParams.update({\n",
    "            'figure.figsize': (6, 6),\n",
    "            'figure.dpi': 200,\n",
    "            'xtick.labelsize': 4,\n",
    "            'ytick.labelsize': 4\n",
    "        })\n",
    "        ax = plt.figure().add_subplot(111, projection='3d')\n",
    "        p_x = []\n",
    "        p_y = []\n",
    "        p_z = []\n",
    "        for point in list_point[:-1]:\n",
    "            point_x = point.a\n",
    "            p_x.append(point_x)\n",
    "            point_y = point.b\n",
    "            p_y.append(point_y)\n",
    "            point_z = point.value\n",
    "            p_z.append(point_z)\n",
    "            ax.scatter(point_x, point_y, point_z, color='red', s=3)\n",
    "        point_x = list_point[-1].a\n",
    "        point_y = list_point[-1].b\n",
    "        point_z = list_point[-1].value\n",
    "        ax.scatter(point_x, point_y, point_z, color='green', s=6)\n",
    "#         ax.plot_surface(self.a_np, self.b_np, self.d_np, rstride=5, cstride=5, cmap='viridis', alpha=0.5)\n",
    "        surf = ax.plot_surface(self.a_np, self.b_np, self.d_np, cmap=cm.coolwarm,\n",
    "                       linewidth=0, antialiased=False)\n",
    "        ax.plot(p_x, p_y, p_z, '-ok', linewidth=1)\n",
    "        ax.view_init(60, 35)\n",
    "        plt.show()"
   ]
  },
  {
   "cell_type": "code",
   "execution_count": 644,
   "id": "armed-column",
   "metadata": {},
   "outputs": [],
   "source": [
    "def visualise_2d(predict_a_b, func):\n",
    "    dpi = 80\n",
    "    fig = plt.figure(dpi=dpi, figsize=(1024 / dpi, 512 / dpi))\n",
    "    plt.scatter(x=x, y=y, c='r', label = \"data generated\") \n",
    "    \n",
    "    for method in predict_a_b.keys():\n",
    "        y_k = [func(predict_a_b[method].a, predict_a_b[method].b, i) for i in x]\n",
    "        plt.plot(x, y_k, label=method)\n",
    "    \n",
    "    y_k = [alpha * x[k] + beta for k in range(n + 1)]\n",
    "    plt.plot(x, y_k, label=\"init line\")\n",
    "    \n",
    "    plt.title(func.__name__)\n",
    "    plt.grid(True)\n",
    "    plt.legend()\n",
    "    \n",
    "    fig.set_figwidth(8)\n",
    "    fig.set_figheight(8)\n",
    "    plt.show()"
   ]
  },
  {
   "cell_type": "code",
   "execution_count": 645,
   "id": "flush-watson",
   "metadata": {},
   "outputs": [],
   "source": [
    "class Vector(object):\n",
    "    def __init__(self, a, b):\n",
    "        self.a = a\n",
    "        self.b = b\n",
    "        self.value = 0\n",
    "        \n",
    "    def set_value(self, z):\n",
    "        self.value = z\n",
    "\n",
    "    def __repr__(self):\n",
    "        return \"({0}, {1})\".format(self.a, self.b)\n",
    "\n",
    "    def __add__(self, other):\n",
    "        a = self.a + other.a\n",
    "        b = self.b + other.b\n",
    "        return Vector(a, b)\n",
    "\n",
    "    def __sub__(self, other):\n",
    "        a = self.a - other.a\n",
    "        b = self.b - other.b\n",
    "        return Vector(a, b)\n",
    "\n",
    "    def __rmul__(self, other):\n",
    "        a = self.a * other\n",
    "        b = self.b * other\n",
    "        return Vector(a, b)\n",
    "    \n",
    "    def __mul__(self, other):\n",
    "        a = self.a * other\n",
    "        b = self.b * other\n",
    "        return Vector(a, b)\n",
    "\n",
    "    def __truediv__(self, other):\n",
    "        a = self.a / other\n",
    "        b = self.b / other\n",
    "        return Vector(a, b)\n",
    "    \n",
    "    def sum_vec(self):\n",
    "        return self.a + self.b\n",
    "\n",
    "    def c(self):\n",
    "        return (self.a, self.b)\n",
    "    \n",
    "    def to_list(self):\n",
    "        return [self.a, self.b]"
   ]
  },
  {
   "cell_type": "markdown",
   "id": "regional-filling",
   "metadata": {},
   "source": [
    "1. Gradient descent\n",
    "2. (Nonlinear) Conjugate Gradient method\n",
    "3. Newton’s method\n",
    "4. Levenberg-Marquardt algorithm"
   ]
  },
  {
   "cell_type": "markdown",
   "id": "activated-fantasy",
   "metadata": {},
   "source": [
    "## Gradient descent"
   ]
  },
  {
   "cell_type": "code",
   "execution_count": 646,
   "id": "successful-tyler",
   "metadata": {
    "scrolled": false
   },
   "outputs": [
    {
     "name": "stdout",
     "output_type": "stream",
     "text": [
      "[0.47769034 0.54667806] 135.56616672180675 Extremum found with desired accuracy.\n",
      "[ 0.50135189 -0.61097417] 134.2756313780809 Extremum found with desired accuracy.\n"
     ]
    }
   ],
   "source": [
    "approx_grad = {\n",
    "    rational_approx: grad_rational_approx,\n",
    "    linear_approx: grad_linear_approx\n",
    "}\n",
    "\n",
    "def least_squares_bb(func, v):\n",
    "    d = 0\n",
    "    for k in range(0, n + 1):\n",
    "        d += (func(v[0], v[1], x[k]) - y[k]) ** 2 \n",
    "    return d\n",
    "\n",
    "def grad_least_squares_bb(func, v):\n",
    "    grad = Vector(0, 0)\n",
    "    for k in range(0, n + 1):\n",
    "        res = func(v[0], v[1], x[k]) - y[k]\n",
    "        grad += 2 * res * approx_grad[func](v[0], v[1], x[k])\n",
    "    return np.array([grad.a, grad.b])\n",
    "\n",
    "def grad_descent(func, x, niter=100, verbose=False):\n",
    "    msg = \"Maximum number of iterations\"\n",
    "    g_old = grad_least_squares_bb(func, x)\n",
    "    gamma = 0.9\n",
    "    for cont in range(niter):\n",
    "        if verbose:\n",
    "            print(f\"n: {cont}, x: {x}, func: {round(least_squares_bb(func, x),3)}\")\n",
    "        dx = - gamma * g_old\n",
    "        x = x + dx\n",
    "        g = grad_least_squares_bb(func, x)\n",
    "        dg = g - g_old\n",
    "        g_old = g\n",
    "        # Barzilai-Borwein method\n",
    "        gamma = abs(dx.dot(dg)) / dg.dot(dg)\n",
    "        if norm(g) < eps:\n",
    "            msg = \"Extremum found with desired accuracy\"\n",
    "            break\n",
    "    print(x, least_squares_bb(func, x), msg)\n",
    "    vec = Vector(x[0], x[1])\n",
    "    vec.set_value(least_squares_bb(func, x))\n",
    "    return vec\n",
    "\n",
    "\n",
    "vec_grad_descent_linear = grad_descent(linear_approx, [2.0, 2.0])\n",
    "vec_grad_descent_rational = grad_descent(rational_approx, [2.0, 2.0])"
   ]
  },
  {
   "cell_type": "code",
   "execution_count": 648,
   "id": "upper-validation",
   "metadata": {},
   "outputs": [],
   "source": [
    "# vis1 = Visualise_3d(x, y)\n",
    "# vis1.build_z(linear_approx)\n",
    "# vis2.draw_chart(list_vec_linear)\n",
    "# vis2 = Visualise_3d(x, y)\n",
    "# vis2.build_z(rational_approx) \n",
    "# vis2.draw_chart(list_vec_rational)"
   ]
  },
  {
   "cell_type": "markdown",
   "id": "caring-research",
   "metadata": {},
   "source": [
    "## Non-linear Conjugate Gradient Descent"
   ]
  },
  {
   "cell_type": "code",
   "execution_count": null,
   "id": "drawn-hopkins",
   "metadata": {},
   "outputs": [],
   "source": []
  },
  {
   "cell_type": "markdown",
   "id": "unlike-toronto",
   "metadata": {},
   "source": [
    "## Newton’s method"
   ]
  },
  {
   "cell_type": "code",
   "execution_count": 343,
   "id": "graduate-letter",
   "metadata": {},
   "outputs": [],
   "source": [
    "def hessian_linear():\n",
    "    h11 = 0\n",
    "    h12 = 0\n",
    "    h21 = 0\n",
    "    h22 = 0\n",
    "    for k in range(0, n + 1):\n",
    "        h11 += 2 * x[k] ** 2\n",
    "        h12 += 2 * x[k]\n",
    "        h21 += 2 * x[k]\n",
    "        h22 += 2\n",
    "    return h11, h12, h21, h22   \n",
    "\n",
    "def hessian_rational(vec):\n",
    "    h11 = 0\n",
    "    h12 = 0\n",
    "    h21 = 0\n",
    "    h22 = 0\n",
    "    for k in range(0, n + 1):\n",
    "        h11 += 2 / ((1 + vec.b * x[k]) ** 2)\n",
    "        h12 += - 4 * vec.a * x[k] / ((1 + vec.b * x[k]) ** 3) + 2 * x[k] * y[k] / ((1 + vec.b * x[k]) ** 2)\n",
    "        h21 += - 4 * vec.a * x[k] / ((1 + vec.b * x[k]) ** 3) + 2 * x[k] * y[k] / ((1 + vec.b * x[k]) ** 2)\n",
    "        h22 += 6 * vec.a ** 2 * x[k] ** 2 / ((1 + vec.b * x[k]) ** 4) - 4 * vec.a * x[k] ** 2 * y[k] / ((1 + vec.b * x[k]) ** 2)\n",
    "    return h11, h12, h21, h22  "
   ]
  },
  {
   "cell_type": "code",
   "execution_count": 388,
   "id": "opposed-partner",
   "metadata": {},
   "outputs": [
    {
     "data": {
      "text/plain": [
       "{'linear': (67.67, 101.0, 101.0, 202),\n",
       " 'rational': (78.9150982039800,\n",
       "  -9.13423201059114,\n",
       "  -9.13423201059114,\n",
       "  -3.13748385953262)}"
      ]
     },
     "execution_count": 388,
     "metadata": {},
     "output_type": "execute_result"
    }
   ],
   "source": [
    "hessian = {\n",
    "    \"linear\": hessian_linear(),\n",
    "    \"rational\": hessian_rational(list_vec_rational[-1]), \n",
    "}\n",
    "hessian"
   ]
  },
  {
   "cell_type": "code",
   "execution_count": null,
   "id": "assumed-lunch",
   "metadata": {},
   "outputs": [],
   "source": []
  },
  {
   "cell_type": "markdown",
   "id": "danish-salad",
   "metadata": {},
   "source": [
    "## Levenberg-Marquardt algorithm"
   ]
  },
  {
   "cell_type": "code",
   "execution_count": null,
   "id": "maritime-identity",
   "metadata": {},
   "outputs": [],
   "source": []
  },
  {
   "cell_type": "markdown",
   "id": "religious-block",
   "metadata": {},
   "source": [
    "## Visualise"
   ]
  },
  {
   "cell_type": "code",
   "execution_count": 649,
   "id": "elegant-extent",
   "metadata": {},
   "outputs": [
    {
     "data": {
      "image/png": "[encoded data removed]",
      "text/plain": [
       "<Figure size 640x640 with 1 Axes>"
      ]
     },
     "metadata": {
      "needs_background": "light"
     },
     "output_type": "display_data"
    },
    {
     "data": {
      "image/png": "[encoded data removed]",
      "text/plain": [
       "<Figure size 640x640 with 1 Axes>"
      ]
     },
     "metadata": {
      "needs_background": "light"
     },
     "output_type": "display_data"
    }
   ],
   "source": [
    "linear_predict_a_b = {\n",
    "    \"gradient_descent\": vec_grad_descent_linear\n",
    "}\n",
    "rational_predict_a_b = {\n",
    "    \"gradient_descent\": vec_grad_descent_rational\n",
    "}\n",
    "visualise_2d(linear_predict_a_b, linear_approx)\n",
    "visualise_2d(rational_predict_a_b, rational_approx)"
   ]
  },
  {
   "cell_type": "code",
   "execution_count": null,
   "id": "silent-cooking",
   "metadata": {},
   "outputs": [],
   "source": []
  }
 ],
 "metadata": {
  "kernelspec": {
   "display_name": "Python 3",
   "language": "python",
   "name": "python3"
  },
  "language_info": {
   "codemirror_mode": {
    "name": "ipython",
    "version": 3
   },
   "file_extension": ".py",
   "mimetype": "text/x-python",
   "name": "python",
   "nbconvert_exporter": "python",
   "pygments_lexer": "ipython3",
   "version": "3.8.8"
  }
 },
 "nbformat": 4,
 "nbformat_minor": 5
}
