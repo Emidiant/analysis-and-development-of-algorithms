{
 "cells": [
  {
   "cell_type": "markdown",
   "id": "sudden-introduction",
   "metadata": {},
   "source": [
    "# Algorithms for unconstrained nonlinear optimization. First- and second-order methods"
   ]
  },
  {
   "cell_type": "code",
   "execution_count": 698,
   "id": "coastal-tradition",
   "metadata": {},
   "outputs": [],
   "source": [
    "import random\n",
    "import math as m\n",
    "from matplotlib import cm\n",
    "import matplotlib.pyplot as plt\n",
    "import matplotlib as mpl\n",
    "import numpy as np\n",
    "from math import sqrt\n",
    "from sympy import *\n",
    "from numpy import array\n",
    "from numpy.linalg import norm, inv\n",
    "from scipy import optimize"
   ]
  },
  {
   "cell_type": "markdown",
   "id": "superb-control",
   "metadata": {},
   "source": [
    "## Data Generation"
   ]
  },
  {
   "cell_type": "code",
   "execution_count": 728,
   "id": "certified-minutes",
   "metadata": {},
   "outputs": [],
   "source": [
    "eps = 1e-3\n",
    "accuracy = round(m.log(1/eps, 10))\n",
    "alpha = random.random()\n",
    "beta = random.random()\n",
    "n = 100\n",
    "x = [k/n for k in range(n + 1)]\n",
    "y = [alpha * x[k] + beta + random.normalvariate(0, 1) for k in range(n + 1)]"
   ]
  },
  {
   "cell_type": "code",
   "execution_count": 729,
   "id": "reported-heart",
   "metadata": {},
   "outputs": [],
   "source": [
    "def linear_approx(a, b, x):\n",
    "    return a * x + b\n",
    "\n",
    "def linear_approx_derivative_a(a, b, x):\n",
    "    \"\"\"Производная по a\"\"\"\n",
    "    return x\n",
    "\n",
    "def linear_approx_derivative_b(a, b, x):\n",
    "    \"\"\"Производная по b\"\"\"\n",
    "    return 1\n",
    "\n",
    "def grad_linear_approx(a, b, x):\n",
    "    \"\"\"Градиент линейной аппроксимации\"\"\"\n",
    "    return Vector(linear_approx_derivative_a(a, b, x), linear_approx_derivative_b(a, b, x))"
   ]
  },
  {
   "cell_type": "code",
   "execution_count": 730,
   "id": "pressed-kentucky",
   "metadata": {},
   "outputs": [],
   "source": [
    "def rational_approx(a, b, x):\n",
    "    if 1 + x * b != 0:\n",
    "        return a / (1 + b * x)\n",
    "    else:\n",
    "        return 1000000\n",
    "\n",
    "def rational_approx_derivative_a(a, b, x):\n",
    "    \"Производная по a\"\n",
    "    if 1 + b * x != 0:\n",
    "        return 1 / (1 + b * x)\n",
    "    else:\n",
    "        return 100000\n",
    "    \n",
    "def rational_approx_derivative_b(a, b, x):\n",
    "    \"\"\"Производная по b\"\"\"\n",
    "    if 1 + b * x != 0:\n",
    "        return -a * x / (1 + b * x) ** 2\n",
    "    else:\n",
    "        return 100000\n",
    "    \n",
    "def grad_rational_approx(a, b, x):\n",
    "    \"\"\"Градиент рациональной аппроксимации\"\"\"\n",
    "    return Vector(rational_approx_derivative_a(a, b, x), rational_approx_derivative_b(a, b, x))"
   ]
  },
  {
   "cell_type": "code",
   "execution_count": 731,
   "id": "fatty-reaction",
   "metadata": {},
   "outputs": [],
   "source": [
    "approx_grad = {\n",
    "    rational_approx: grad_rational_approx,\n",
    "    linear_approx: grad_linear_approx\n",
    "}\n",
    "\n",
    "def least_squares(func, a, b):\n",
    "    d = 0\n",
    "    for k in range(0, n + 1):\n",
    "        d += (func(a, b, x[k]) - y[k]) ** 2 \n",
    "    return d\n",
    "\n",
    "def grad_least_squares(func, v):\n",
    "    grad = Vector(0, 0)\n",
    "    for k in range(0, n + 1):\n",
    "        res = func(v.a, v.b, x[k]) - y[k]\n",
    "        grad += 2 * res * approx_grad[func](v.a, v.b, x[k])\n",
    "    return grad"
   ]
  },
  {
   "cell_type": "code",
   "execution_count": 733,
   "id": "armed-column",
   "metadata": {},
   "outputs": [],
   "source": [
    "def visualise_2d(predict_a_b, func):\n",
    "    dpi = 80\n",
    "    fig = plt.figure(dpi=dpi, figsize=(1024 / dpi, 512 / dpi))\n",
    "    plt.scatter(x=x, y=y, c='r', label = \"data generated\") \n",
    "    \n",
    "    for method in predict_a_b.keys():\n",
    "        print(method, predict_a_b[method])\n",
    "        y_k = [func(predict_a_b[method].a, predict_a_b[method].b, i) for i in x]\n",
    "        plt.plot(x, y_k, label=method)\n",
    "    \n",
    "    y_k = [alpha * x[k] + beta for k in range(n + 1)]\n",
    "    plt.plot(x, y_k, label=\"init line\")\n",
    "    \n",
    "    plt.title(func.__name__)\n",
    "    plt.grid(True)\n",
    "    plt.legend()\n",
    "    \n",
    "    fig.set_figwidth(8)\n",
    "    fig.set_figheight(8)\n",
    "    plt.show()"
   ]
  },
  {
   "cell_type": "code",
   "execution_count": 734,
   "id": "flush-watson",
   "metadata": {},
   "outputs": [],
   "source": [
    "class Vector(object):\n",
    "    def __init__(self, a, b):\n",
    "        self.a = a\n",
    "        self.b = b\n",
    "        self.value = 0\n",
    "        \n",
    "    def set_value(self, z):\n",
    "        self.value = z\n",
    "\n",
    "    def __repr__(self):\n",
    "        return \"({0}, {1})\".format(self.a, self.b)\n",
    "\n",
    "    def __add__(self, other):\n",
    "        a = self.a + other.a\n",
    "        b = self.b + other.b\n",
    "        return Vector(a, b)\n",
    "\n",
    "    def __sub__(self, other):\n",
    "        a = self.a - other.a\n",
    "        b = self.b - other.b\n",
    "        return Vector(a, b)\n",
    "\n",
    "    def __rmul__(self, other):\n",
    "        a = self.a * other\n",
    "        b = self.b * other\n",
    "        return Vector(a, b)\n",
    "    \n",
    "    def __mul__(self, other):\n",
    "        a = self.a * other\n",
    "        b = self.b * other\n",
    "        return Vector(a, b)\n",
    "\n",
    "    def __truediv__(self, other):\n",
    "        a = self.a / other\n",
    "        b = self.b / other\n",
    "        return Vector(a, b)\n",
    "    \n",
    "    def sum_vec(self):\n",
    "        return self.a + self.b\n",
    "\n",
    "    def c(self):\n",
    "        return (self.a, self.b)\n",
    "    \n",
    "    def to_list(self):\n",
    "        return [self.a, self.b]"
   ]
  },
  {
   "cell_type": "markdown",
   "id": "stopped-bronze",
   "metadata": {},
   "source": [
    "## First-order methods\n",
    "\n",
    "1. Gradient descent\n",
    "2. (Nonlinear) Conjugate Gradient method"
   ]
  },
  {
   "cell_type": "markdown",
   "id": "activated-fantasy",
   "metadata": {},
   "source": [
    "### Gradient descent"
   ]
  },
  {
   "cell_type": "code",
   "execution_count": 735,
   "id": "successful-tyler",
   "metadata": {
    "scrolled": false
   },
   "outputs": [
    {
     "name": "stdout",
     "output_type": "stream",
     "text": [
      "[0.02924173 0.93251045] 116.09568423082601 Extremum found with desired accuracy in 5 iterations\n",
      "[ 0.9319672  -0.03184379] 116.09532761283293 Extremum found with desired accuracy in 33 iterations\n"
     ]
    }
   ],
   "source": [
    "approx_grad = {\n",
    "    rational_approx: grad_rational_approx,\n",
    "    linear_approx: grad_linear_approx\n",
    "}\n",
    "\n",
    "def least_squares_bb(func, v):\n",
    "    d = 0\n",
    "    for k in range(0, n + 1):\n",
    "        d += (func(v[0], v[1], x[k]) - y[k]) ** 2 \n",
    "    return d\n",
    "\n",
    "def grad_least_squares_bb(func, v):\n",
    "    grad = Vector(0, 0)\n",
    "    for k in range(0, n + 1):\n",
    "        res = func(v[0], v[1], x[k]) - y[k]\n",
    "        grad += 2 * res * approx_grad[func](v[0], v[1], x[k])\n",
    "    return np.array([grad.a, grad.b])\n",
    "\n",
    "def grad_descent(func, x, niter=100, verbose=False):\n",
    "    msg = \"Maximum number of iterations\"\n",
    "    g_old = grad_least_squares_bb(func, x)\n",
    "    gamma = 0.9\n",
    "    for cont in range(niter):\n",
    "        if verbose:\n",
    "            print(f\"n: {cont}, x: {x}, func: {round(least_squares_bb(func, x),3)}\")\n",
    "        dx = - gamma * g_old\n",
    "        x = x + dx\n",
    "        g = grad_least_squares_bb(func, x)\n",
    "        dg = g - g_old\n",
    "        g_old = g\n",
    "        # Barzilai-Borwein method\n",
    "        gamma = abs(dx.dot(dg)) / dg.dot(dg)\n",
    "        if norm(g) < eps:\n",
    "            msg = f\"Extremum found with desired accuracy in {cont + 1} iterations\"\n",
    "            break\n",
    "    print(x, least_squares_bb(func, x), msg)\n",
    "    vec = Vector(x[0], x[1])\n",
    "    vec.set_value(least_squares_bb(func, x))\n",
    "    return vec\n",
    "\n",
    "\n",
    "vec_grad_descent_linear = grad_descent(linear_approx, [2.0, 2.0])\n",
    "vec_grad_descent_rational = grad_descent(rational_approx, [2.0, 2.0])"
   ]
  },
  {
   "cell_type": "markdown",
   "id": "caring-research",
   "metadata": {},
   "source": [
    "### Non-linear Conjugate Gradient Descent"
   ]
  },
  {
   "cell_type": "code",
   "execution_count": 737,
   "id": "fitting-jacob",
   "metadata": {},
   "outputs": [
    {
     "name": "stdout",
     "output_type": "stream",
     "text": [
      "Optimization terminated successfully.\n",
      "         Current function value: 116.095684\n",
      "         Iterations: 2\n",
      "         Function evaluations: 5\n",
      "         Gradient evaluations: 5\n",
      "[0.02924211 0.93251115]\n",
      "Optimization terminated successfully.\n",
      "         Current function value: 116.095328\n",
      "         Iterations: 11\n",
      "         Function evaluations: 22\n",
      "         Gradient evaluations: 22\n",
      "[ 0.93196725 -0.03184372]\n"
     ]
    }
   ],
   "source": [
    "def least_squares_conjugate_linear(v):\n",
    "    d = 0\n",
    "    v0, v1 = v\n",
    "    for k in range(0, n + 1):\n",
    "        d += (linear_approx(v0, v1, x[k]) - y[k]) ** 2 \n",
    "    return d\n",
    "\n",
    "def least_squares_conjugate_rational(v):\n",
    "    d = 0\n",
    "    v0, v1 = v\n",
    "    for k in range(0, n + 1):\n",
    "        d += (rational_approx(v0, v1, x[k]) - y[k]) ** 2 \n",
    "    return d\n",
    "\n",
    "def grad_least_squares_conjugate_rational(v):\n",
    "    grad = Vector(0, 0)\n",
    "    v0, v1 = v\n",
    "    for k in range(0, n + 1):\n",
    "        res = rational_approx(v0, v1, x[k]) - y[k]\n",
    "        grad += 2 * res * approx_grad[rational_approx](v0, v1, x[k])\n",
    "    return np.array([grad.a, grad.b])\n",
    "\n",
    "def grad_least_squares_conjugate_linear(v):\n",
    "    grad = Vector(0, 0)\n",
    "    v0, v1 = v\n",
    "    for k in range(0, n + 1):\n",
    "        res = linear_approx(v0, v1, x[k]) - y[k]\n",
    "        grad += 2 * res * approx_grad[linear_approx](v0, v1, x[k])\n",
    "    return np.array([grad.a, grad.b])\n",
    "\n",
    "x0 = np.asarray((0, 0))  # Initial guess.\n",
    "res1 = optimize.fmin_cg(least_squares_conjugate_linear, x0, fprime=grad_least_squares_conjugate_linear)\n",
    "print(res1)\n",
    "vec_gd_conjugate_linear = Vector(res1[0], res1[1])\n",
    "vec_gd_conjugate_linear.set_value(least_squares(linear_approx, res1[0], res1[1]))\n",
    "res2 = optimize.fmin_cg(least_squares_conjugate_rational, x0, fprime=grad_least_squares_conjugate_rational)\n",
    "vec_gd_conjugate_rational = Vector(res2[0], res2[1])\n",
    "vec_gd_conjugate_rational.set_value(least_squares(rational_approx, res2[0], res2[1]))\n",
    "print(res2)"
   ]
  },
  {
   "cell_type": "markdown",
   "id": "static-healing",
   "metadata": {},
   "source": [
    "## Second-order methods\n",
    "\n",
    "3. Newton’s method\n",
    "4. Levenberg-Marquardt algorithm"
   ]
  },
  {
   "cell_type": "markdown",
   "id": "unlike-toronto",
   "metadata": {},
   "source": [
    "### Newton’s method"
   ]
  },
  {
   "cell_type": "code",
   "execution_count": 762,
   "id": "invisible-butler",
   "metadata": {},
   "outputs": [
    {
     "name": "stdout",
     "output_type": "stream",
     "text": [
      "[[67.66999831597786, 100.99999485646549], [100.99999485646549, 201.99998971293098]]\n",
      "[[ 67.784197   -24.03310282]\n",
      " [-24.03310282   9.88250174]]\n"
     ]
    }
   ],
   "source": [
    "def func(u):\n",
    "    v0 = u[0]\n",
    "    v1 = u[1]\n",
    "    d = 0\n",
    "    for k in range(0, n + 1):\n",
    "        d += (linear_approx(v0, v1, x[k]) - y[k]) ** 2 \n",
    "    return d\n",
    "\n",
    "def funcdd(u, d):\n",
    "    h = 1e-4\n",
    "    x, y = u[0], u[1]\n",
    "    xd, yd = d[0], d[1]\n",
    "\n",
    "    result = func([x + xd * h, y + yd * h]) + func([x - xd * h, y - yd * h])\n",
    "    for index, i in enumerate(d):\n",
    "        if i == 1:\n",
    "            d[index] = -1\n",
    "            break\n",
    "    else:\n",
    "        d = [0, 0]\n",
    "    xd, yd = d[0], d[1]\n",
    "    result -= func([x + xd * h, y + yd * h]) + func([x - xd * h, y - yd * h])\n",
    "    result /= 4 * h ** 2\n",
    "    return result\n",
    "\n",
    "\n",
    "def hesse_matrix(u):\n",
    "    xk = u[0]\n",
    "    yk = u[1]\n",
    "\n",
    "    fxx = funcdd(u, [2, 0])\n",
    "    fxy = funcdd(u, [1, 1])\n",
    "    fyy = funcdd(u, [0, 2])\n",
    "    return [[fxx, fxy],\n",
    "            [fxy, fyy]]\n",
    "\n",
    "print(hesse_matrix([2, 2]))\n",
    "print(hessian_rational(Vector(2, 2)))"
   ]
  },
  {
   "cell_type": "code",
   "execution_count": 750,
   "id": "excess-domain",
   "metadata": {},
   "outputs": [],
   "source": [
    "def hessian_linear():\n",
    "    h11 = 0\n",
    "    h12 = 0\n",
    "    h21 = 0\n",
    "    h22 = 0\n",
    "    for k in range(0, n + 1):\n",
    "        h11 += 2 * x[k] ** 2\n",
    "        h12 += 2 * x[k]\n",
    "        h21 += 2 * x[k]\n",
    "        h22 += 2\n",
    "    return np.array([[h11, h12], [h21, h22]])   \n",
    "\n",
    "def hessian_rational(vec):\n",
    "    h11 = 0\n",
    "    h12 = 0\n",
    "    h21 = 0\n",
    "    h22 = 0\n",
    "    for k in range(0, n + 1):\n",
    "        h11 += 2 / ((1 + vec.b * x[k]) ** 2)\n",
    "        h12 += - 4 * vec.a * x[k] / ((1 + vec.b * x[k]) ** 3) + 2 * x[k] * y[k] / ((1 + vec.b * x[k]) ** 2)\n",
    "        h21 += - 4 * vec.a * x[k] / ((1 + vec.b * x[k]) ** 3) + 2 * x[k] * y[k] / ((1 + vec.b * x[k]) ** 2)\n",
    "        h22 += 6 * vec.a ** 2 * x[k] ** 2 / ((1 + vec.b * x[k]) ** 4) - 4 * vec.a * x[k] ** 2 * y[k] / ((1 + vec.b * x[k]) ** 3)\n",
    "    return np.array([[h11, h12], [h21, h22]])  "
   ]
  },
  {
   "cell_type": "code",
   "execution_count": 792,
   "id": "african-waterproof",
   "metadata": {},
   "outputs": [
    {
     "name": "stdout",
     "output_type": "stream",
     "text": [
      "n: 0, x: [1.0, 1.0], func: 155.058\n",
      "[0.02924211 0.93251115] 116.09568423074415 Extremum found with desired accuracy in 1 iterations\n",
      "n: 0, x: [1, -0.5], func: 143.15\n",
      "n: 1, x: [ 0.47166821 -0.62990943], func: 124.668\n",
      "n: 2, x: [ 0.70989402 -0.39078687], func: 117.764\n",
      "n: 3, x: [ 0.8609629  -0.18105324], func: 116.305\n",
      "n: 4, x: [ 0.91849086 -0.06633624], func: 116.106\n",
      "n: 5, x: [ 0.93111349 -0.03422498], func: 116.095\n",
      "[ 0.93196282 -0.03185636] 116.0953276143749 Extremum found with desired accuracy in 6 iterations\n"
     ]
    }
   ],
   "source": [
    "def least_squares_bb(func, v):\n",
    "    d = 0\n",
    "    for k in range(0, n + 1):\n",
    "        d += (func(v[0], v[1], x[k]) - y[k]) ** 2 \n",
    "    return d\n",
    "\n",
    "def grad_least_squares_bb(func, v):\n",
    "    grad = Vector(0, 0)\n",
    "    for k in range(0, n + 1):\n",
    "        res = func(v[0], v[1], x[k]) - y[k]\n",
    "        grad += 2 * res * approx_grad[func](v[0], v[1], x[k])\n",
    "    return np.array([grad.a, grad.b])\n",
    "\n",
    "def grad_descent_newton(func, x, niter=100, verbose=False):\n",
    "    msg = \"Maximum number of iterations\"\n",
    "    g_old = grad_least_squares_bb(func, x)\n",
    "    gamma = 0.9\n",
    "    for cont in range(niter):\n",
    "        if verbose:\n",
    "            print(f\"n: {cont}, x: {x}, func: {round(least_squares_bb(func, x),3)}\")\n",
    "        if func == linear_approx:\n",
    "            hes = inv(hessian_linear())\n",
    "        else:\n",
    "#             hes = inv(hesse_matrix(x))\n",
    "            hes = inv(hessian_rational(Vector(x[0], x[1]))) \n",
    "        x = x - hes.dot(g_old)\n",
    "        g = grad_least_squares_bb(func, x)\n",
    "        g_old = g\n",
    "        if norm(g) < eps:\n",
    "            msg = f\"Extremum found with desired accuracy in {cont + 1} iterations\"\n",
    "            break\n",
    "    print(x, least_squares_bb(func, x), msg)\n",
    "    vec = Vector(x[0], x[1])\n",
    "    vec.set_value(least_squares_bb(func, x))\n",
    "    return vec\n",
    "\n",
    "vec_newton_linear = grad_descent_newton(linear_approx, [1.0, 1.0], verbose=True)\n",
    "vec_newton_linear.set_value(least_squares(linear_approx, vec_newton_linear.a, vec_newton_linear.b))\n",
    "vec_newton_rational = grad_descent_newton(rational_approx, [1, -0.5], verbose=True)\n",
    "vec_newton_rational.set_value(least_squares(rational_approx, vec_newton_rational.a, vec_newton_rational.b))"
   ]
  },
  {
   "cell_type": "markdown",
   "id": "danish-salad",
   "metadata": {},
   "source": [
    "### Levenberg-Marquardt algorithm"
   ]
  },
  {
   "cell_type": "code",
   "execution_count": null,
   "id": "traditional-video",
   "metadata": {},
   "outputs": [],
   "source": []
  },
  {
   "cell_type": "markdown",
   "id": "designed-restaurant",
   "metadata": {},
   "source": [
    "## Visualise"
   ]
  },
  {
   "cell_type": "code",
   "execution_count": 793,
   "id": "immune-license",
   "metadata": {},
   "outputs": [
    {
     "name": "stdout",
     "output_type": "stream",
     "text": [
      "gradient_descent (0.029241730857684, 0.932510447838534)\n",
      "gd_conjugate_non-linear (0.029242108490785346, 0.9325111524741329)\n",
      "newton (0.02924210849078346, 0.9325111524741336)\n"
     ]
    },
    {
     "data": {
      "image/png": "[encoded data removed]",
      "text/plain": [
       "<Figure size 640x640 with 1 Axes>"
      ]
     },
     "metadata": {
      "needs_background": "light"
     },
     "output_type": "display_data"
    },
    {
     "name": "stdout",
     "output_type": "stream",
     "text": [
      "gradient_descent (0.9319672040296265, -0.03184379429194732)\n",
      "gd_conjugate_non-linear (0.9319672451079317, -0.03184372072994269)\n",
      "newton (0.9319628186954958, -0.03185636366508001)\n"
     ]
    },
    {
     "data": {
      "image/png": "[encoded data removed]",
      "text/plain": [
       "<Figure size 640x640 with 1 Axes>"
      ]
     },
     "metadata": {
      "needs_background": "light"
     },
     "output_type": "display_data"
    }
   ],
   "source": [
    "linear_predict_a_b = {\n",
    "    \"gradient_descent\": vec_grad_descent_linear,\n",
    "    \"gd_conjugate_non-linear\": vec_gd_conjugate_linear,\n",
    "    \"newton\": vec_newton_linear\n",
    "}\n",
    "rational_predict_a_b = {\n",
    "    \"gradient_descent\": vec_grad_descent_rational,\n",
    "    \"gd_conjugate_non-linear\": vec_gd_conjugate_rational,\n",
    "    \"newton\": vec_newton_rational\n",
    "}\n",
    "visualise_2d(linear_predict_a_b, linear_approx)\n",
    "visualise_2d(rational_predict_a_b, rational_approx)"
   ]
  },
  {
   "cell_type": "code",
   "execution_count": null,
   "id": "proprietary-sociology",
   "metadata": {},
   "outputs": [],
   "source": []
  },
  {
   "cell_type": "code",
   "execution_count": null,
   "id": "phantom-cookie",
   "metadata": {},
   "outputs": [],
   "source": []
  }
 ],
 "metadata": {
  "kernelspec": {
   "display_name": "Python 3",
   "language": "python",
   "name": "python3"
  },
  "language_info": {
   "codemirror_mode": {
    "name": "ipython",
    "version": 3
   },
   "file_extension": ".py",
   "mimetype": "text/x-python",
   "name": "python",
   "nbconvert_exporter": "python",
   "pygments_lexer": "ipython3",
   "version": "3.8.8"
  }
 },
 "nbformat": 4,
 "nbformat_minor": 5
}
