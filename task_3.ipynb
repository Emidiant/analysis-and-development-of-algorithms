{
 "cells": [
  {
   "cell_type": "markdown",
   "id": "ranging-elder",
   "metadata": {},
   "source": [
    "# Алгоритмы безусловной нелинейной оптимизации. Методы первого и второго порядка"
   ]
  },
  {
   "cell_type": "code",
   "execution_count": 1,
   "id": "controversial-charlotte",
   "metadata": {},
   "outputs": [],
   "source": [
    "import random\n",
    "import math as m\n",
    "import matplotlib.pyplot as plt\n",
    "import matplotlib as mpl"
   ]
  },
  {
   "cell_type": "markdown",
   "id": "handled-packing",
   "metadata": {},
   "source": [
    "## Data Generation"
   ]
  },
  {
   "cell_type": "code",
   "execution_count": 5,
   "id": "improved-administration",
   "metadata": {},
   "outputs": [],
   "source": [
    "eps = 1e-3\n",
    "accuracy = round(m.log(1/eps, 10))"
   ]
  },
  {
   "cell_type": "code",
   "execution_count": 6,
   "id": "committed-japan",
   "metadata": {},
   "outputs": [],
   "source": [
    "def linear_approx(a, b, x):\n",
    "    return a * x + b\n",
    "    \n",
    "def rational_approx(a, b, x):\n",
    "    if 1 + x * b != 0:\n",
    "        return a/(1 + b * x)\n",
    "    else:\n",
    "        return 1000000"
   ]
  },
  {
   "cell_type": "code",
   "execution_count": 7,
   "id": "secure-grammar",
   "metadata": {},
   "outputs": [],
   "source": [
    "alpha = random.random()\n",
    "beta = random.random()\n",
    "n = 100\n",
    "x = [k/n for k in range(n + 1)]\n",
    "y = [alpha * x[k] + beta + random.normalvariate(0, 1) for k in range(n + 1)]"
   ]
  },
  {
   "cell_type": "code",
   "execution_count": 8,
   "id": "coupled-enforcement",
   "metadata": {},
   "outputs": [],
   "source": [
    "def visualise(predict_a_b, func):\n",
    "    dpi = 80\n",
    "    fig = plt.figure(dpi=dpi, figsize=(1024 / dpi, 512 / dpi))\n",
    "    plt.scatter(x=x, y=y, c='r', label = \"data generated\") \n",
    "    \n",
    "    for method in predict_a_b.keys():\n",
    "        print(method, predict_a_b[method])\n",
    "        y_k = [func(i, predict_a_b[method][\"params\"][0], predict_a_b[method][\"params\"][1]) for i in x]\n",
    "        plt.plot(x, y_k, label=method)\n",
    "    \n",
    "    y_k = [alpha * x[k] + beta for k in range(n + 1)]\n",
    "    plt.plot(x, y_k, label=\"init line\")\n",
    "    \n",
    "    plt.title(func.__name__)\n",
    "    plt.grid(True)\n",
    "    plt.legend()\n",
    "    \n",
    "    fig.set_figwidth(8)\n",
    "    fig.set_figheight(8)\n",
    "    plt.show()"
   ]
  },
  {
   "cell_type": "markdown",
   "id": "welcome-transcription",
   "metadata": {},
   "source": [
    "## Метод Ньютона"
   ]
  },
  {
   "cell_type": "code",
   "execution_count": null,
   "id": "purple-encounter",
   "metadata": {},
   "outputs": [],
   "source": []
  },
  {
   "cell_type": "code",
   "execution_count": 9,
   "id": "damaged-policy",
   "metadata": {},
   "outputs": [
    {
     "data": {
      "image/png": "[encoded data removed]",
      "text/plain": [
       "<Figure size 640x640 with 1 Axes>"
      ]
     },
     "metadata": {
      "needs_background": "light"
     },
     "output_type": "display_data"
    }
   ],
   "source": [
    "linear_predict_a_b = {}\n",
    "visualise(linear_predict_a_b, linear_approx)"
   ]
  },
  {
   "cell_type": "markdown",
   "id": "alien-guarantee",
   "metadata": {},
   "source": [
    "## Метод Левенберга-Марквардта"
   ]
  },
  {
   "cell_type": "code",
   "execution_count": null,
   "id": "synthetic-newsletter",
   "metadata": {},
   "outputs": [],
   "source": []
  }
 ],
 "metadata": {
  "kernelspec": {
   "display_name": "Python 3",
   "language": "python",
   "name": "python3"
  },
  "language_info": {
   "codemirror_mode": {
    "name": "ipython",
    "version": 3
   },
   "file_extension": ".py",
   "mimetype": "text/x-python",
   "name": "python",
   "nbconvert_exporter": "python",
   "pygments_lexer": "ipython3",
   "version": "3.8.8"
  }
 },
 "nbformat": 4,
 "nbformat_minor": 5
}
